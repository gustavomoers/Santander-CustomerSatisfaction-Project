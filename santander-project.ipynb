{
 "cells": [
  {
   "cell_type": "markdown",
   "id": "f1672b76",
   "metadata": {},
   "source": [
    "# SANTANDER CUSTOMER SATISFACTION"
   ]
  },
  {
   "cell_type": "markdown",
   "id": "888527f6",
   "metadata": {},
   "source": [
    "## Importing packages and reading files"
   ]
  },
  {
   "cell_type": "code",
   "execution_count": 4,
   "id": "86664c4b",
   "metadata": {
    "ExecuteTime": {
     "end_time": "2021-06-11T17:43:24.420342Z",
     "start_time": "2021-06-11T17:43:18.481167Z"
    }
   },
   "outputs": [],
   "source": [
    "import pandas as pd\n",
    "import numpy as np\n",
    "import qgrid\n",
    "import warnings\n",
    "warnings.filterwarnings(\"ignore\")"
   ]
  },
  {
   "cell_type": "code",
   "execution_count": 5,
   "id": "b8e8e007",
   "metadata": {
    "ExecuteTime": {
     "end_time": "2021-06-11T17:43:25.927313Z",
     "start_time": "2021-06-11T17:43:24.422586Z"
    }
   },
   "outputs": [],
   "source": [
    "train = pd.read_csv('data/train.csv')"
   ]
  },
  {
   "cell_type": "markdown",
   "id": "bca761ac",
   "metadata": {},
   "source": [
    "## Analyzing and pre-processing"
   ]
  },
  {
   "cell_type": "code",
   "execution_count": 6,
   "id": "67f2ed01",
   "metadata": {
    "ExecuteTime": {
     "end_time": "2021-06-11T17:43:26.862594Z",
     "start_time": "2021-06-11T17:43:25.930270Z"
    }
   },
   "outputs": [],
   "source": [
    "train_desc = train.describe()"
   ]
  },
  {
   "cell_type": "code",
   "execution_count": 7,
   "id": "87c520b1",
   "metadata": {
    "ExecuteTime": {
     "end_time": "2021-06-11T17:43:27.489077Z",
     "start_time": "2021-06-11T17:43:26.864554Z"
    },
    "scrolled": false
   },
   "outputs": [
    {
     "data": {
      "application/vnd.jupyter.widget-view+json": {
       "model_id": "5342867d789e41d0ae647fb02a6881cf",
       "version_major": 2,
       "version_minor": 0
      },
      "text/plain": [
       "QgridWidget(grid_options={'fullWidthRows': True, 'syncColumnCellResize': True, 'forceFitColumns': False, 'defa…"
      ]
     },
     "metadata": {},
     "output_type": "display_data"
    }
   ],
   "source": [
    "## qgrid to see the dataframe in a better shape\n",
    "qgrid.show_grid(train_desc,show_toolbar=True,grid_options={'forceFitColumns': False})"
   ]
  },
  {
   "cell_type": "markdown",
   "id": "3fb9ca3b",
   "metadata": {},
   "source": [
    "Analyzing the data I notice that there are some columns where all the values are zero, so I will drop this columns.\n",
    "\n",
    "I've also noticed that there are some columns where the min/max values are -999999 or 99999 respectively, but as I don't know what each column represents I'm leaving it."
   ]
  },
  {
   "cell_type": "code",
   "execution_count": 8,
   "id": "91dd13be",
   "metadata": {
    "ExecuteTime": {
     "end_time": "2021-06-11T17:43:27.694899Z",
     "start_time": "2021-06-11T17:43:27.531300Z"
    }
   },
   "outputs": [],
   "source": [
    "# checking wich columns contains only zero values:\n",
    "only_zeros = (train == 0).all()\n",
    "\n",
    "drop_zeros = only_zeros[only_zeros].index\n",
    "\n",
    "# droping columns where all values are zero:\n",
    "\n",
    "train = train.drop(drop_zeros,axis=1)"
   ]
  },
  {
   "cell_type": "code",
   "execution_count": 9,
   "id": "6ca0ffa0",
   "metadata": {
    "ExecuteTime": {
     "end_time": "2021-06-11T17:43:27.710856Z",
     "start_time": "2021-06-11T17:43:27.697860Z"
    }
   },
   "outputs": [
    {
     "data": {
      "text/plain": [
       "(76020, 337)"
      ]
     },
     "execution_count": 9,
     "metadata": {},
     "output_type": "execute_result"
    }
   ],
   "source": [
    "train.shape"
   ]
  },
  {
   "cell_type": "markdown",
   "id": "e6a38973",
   "metadata": {},
   "source": [
    "### Separating inputs and output"
   ]
  },
  {
   "cell_type": "code",
   "execution_count": 10,
   "id": "86c61e8b",
   "metadata": {
    "ExecuteTime": {
     "end_time": "2021-06-11T17:43:27.854492Z",
     "start_time": "2021-06-11T17:43:27.713813Z"
    }
   },
   "outputs": [],
   "source": [
    "X_train = train.drop(['TARGET','ID'],axis=1)\n",
    "Y_train = train['TARGET']"
   ]
  },
  {
   "cell_type": "markdown",
   "id": "b2df4789",
   "metadata": {},
   "source": [
    "### Analyzing the output imbalance"
   ]
  },
  {
   "cell_type": "code",
   "execution_count": 11,
   "id": "88fa7b14",
   "metadata": {
    "ExecuteTime": {
     "end_time": "2021-06-11T17:43:27.918265Z",
     "start_time": "2021-06-11T17:43:27.856433Z"
    }
   },
   "outputs": [
    {
     "data": {
      "text/plain": [
       "0    73012\n",
       "1     3008\n",
       "Name: TARGET, dtype: int64"
      ]
     },
     "execution_count": 11,
     "metadata": {},
     "output_type": "execute_result"
    }
   ],
   "source": [
    "train['TARGET'].value_counts()"
   ]
  },
  {
   "cell_type": "code",
   "execution_count": 12,
   "id": "14895498",
   "metadata": {
    "ExecuteTime": {
     "end_time": "2021-06-11T17:43:28.586886Z",
     "start_time": "2021-06-11T17:43:27.920261Z"
    }
   },
   "outputs": [
    {
     "data": {
      "text/plain": [
       "<AxesSubplot:>"
      ]
     },
     "execution_count": 12,
     "metadata": {},
     "output_type": "execute_result"
    },
    {
     "data": {
      "image/png": "[encoded data removed]",
      "text/plain": [
       "<Figure size 432x288 with 1 Axes>"
      ]
     },
     "metadata": {
      "needs_background": "light"
     },
     "output_type": "display_data"
    }
   ],
   "source": [
    "train['TARGET'].value_counts().plot(kind='bar')"
   ]
  },
  {
   "cell_type": "markdown",
   "id": "3e2fb268",
   "metadata": {},
   "source": [
    "there are clearly an imbalance, so I will use SMOTE technique to resample the data"
   ]
  },
  {
   "cell_type": "code",
   "execution_count": 13,
   "id": "e9740f79",
   "metadata": {
    "ExecuteTime": {
     "end_time": "2021-06-11T17:43:34.195267Z",
     "start_time": "2021-06-11T17:43:28.876077Z"
    }
   },
   "outputs": [],
   "source": [
    "from imblearn.over_sampling import SMOTE\n",
    "\n",
    "smote = SMOTE(sampling_strategy='minority', random_state=0)\n",
    "\n",
    "X_train_resampled, Y_train_resampled = smote.fit_resample(X_train, Y_train)\n"
   ]
  },
  {
   "cell_type": "code",
   "execution_count": 14,
   "id": "90043abb",
   "metadata": {
    "ExecuteTime": {
     "end_time": "2021-06-11T17:43:34.478666Z",
     "start_time": "2021-06-11T17:43:34.199220Z"
    }
   },
   "outputs": [
    {
     "data": {
      "text/plain": [
       "<AxesSubplot:xlabel='TARGET'>"
      ]
     },
     "execution_count": 14,
     "metadata": {},
     "output_type": "execute_result"
    },
    {
     "data": {
      "image/png": "[encoded data removed]",
      "text/plain": [
       "<Figure size 432x288 with 1 Axes>"
      ]
     },
     "metadata": {
      "needs_background": "light"
     },
     "output_type": "display_data"
    }
   ],
   "source": [
    "pd.DataFrame(Y_train_resampled).value_counts().plot(kind='bar')"
   ]
  },
  {
   "cell_type": "markdown",
   "id": "b8ee724b",
   "metadata": {},
   "source": [
    "### Normalizing and Applying PCA"
   ]
  },
  {
   "cell_type": "code",
   "execution_count": 15,
   "id": "3a907371",
   "metadata": {
    "ExecuteTime": {
     "end_time": "2021-06-11T17:43:34.494745Z",
     "start_time": "2021-06-11T17:43:34.480660Z"
    }
   },
   "outputs": [],
   "source": [
    "from sklearn.preprocessing import MinMaxScaler\n",
    "from sklearn.decomposition import PCA"
   ]
  },
  {
   "cell_type": "code",
   "execution_count": 16,
   "id": "41febaa5",
   "metadata": {
    "ExecuteTime": {
     "end_time": "2021-06-11T17:43:44.204964Z",
     "start_time": "2021-06-11T17:43:34.496696Z"
    }
   },
   "outputs": [],
   "source": [
    "# Normalizing the X resampled\n",
    "scaler = MinMaxScaler(feature_range = (0, 1))\n",
    "rescaledX = scaler.fit_transform(X_train_resampled)\n",
    "\n",
    "# Selecting Attributes with PCA\n",
    "pca = PCA(n_components =10)\n",
    "X_transformed = pca.fit_transform(rescaledX)\n"
   ]
  },
  {
   "cell_type": "markdown",
   "id": "cd66a815",
   "metadata": {},
   "source": [
    "## Selecting the best classifier model"
   ]
  },
  {
   "cell_type": "markdown",
   "id": "6cb0835d",
   "metadata": {},
   "source": [
    "Linear Regression, LinearDiscriminantAnalysis and GaussianNB were not considered in this evaluation, because they assume\n",
    "the data is in a gaussian distribution."
   ]
  },
  {
   "cell_type": "code",
   "execution_count": 22,
   "id": "1563740d",
   "metadata": {
    "ExecuteTime": {
     "end_time": "2021-06-09T20:09:03.673925Z",
     "start_time": "2021-06-09T19:56:16.521899Z"
    }
   },
   "outputs": [
    {
     "name": "stdout",
     "output_type": "stream",
     "text": [
      "KNN: 0.887608 (0.002938)\n",
      "CART: 0.884574 (0.003021)\n",
      "RANDOM FOREST: 0.900174 (0.002393)\n",
      "ADB: 0.805683 (0.005132)\n",
      "GRADIENT: 0.837842 (0.002580)\n",
      "XGB: 0.874952 (0.002647)\n"
     ]
    },
    {
     "data": {
      "image/png": "[encoded data removed]",
      "text/plain": [
       "<Figure size 864x576 with 1 Axes>"
      ]
     },
     "metadata": {
      "needs_background": "light"
     },
     "output_type": "display_data"
    }
   ],
   "source": [
    "import matplotlib.pyplot as plt\n",
    "from sklearn.model_selection import KFold\n",
    "from sklearn.model_selection import cross_val_score\n",
    "from sklearn.tree import DecisionTreeClassifier\n",
    "from sklearn.neighbors import KNeighborsClassifier\n",
    "from sklearn.ensemble import RandomForestClassifier\n",
    "from sklearn.ensemble import AdaBoostClassifier\n",
    "from sklearn.ensemble import GradientBoostingClassifier\n",
    "from xgboost import XGBClassifier\n",
    "\n",
    "# Defining folds for the cross validation\n",
    "num_folds = 10\n",
    "seed=7\n",
    "\n",
    "# Preparing models\n",
    "modelos = []\n",
    "modelos.append(('KNN', KNeighborsClassifier()))\n",
    "modelos.append(('CART', DecisionTreeClassifier()))\n",
    "modelos.append(('RANDOM FOREST', RandomForestClassifier(n_estimators = 100, max_features = 3)))\n",
    "modelos.append(('ADB',AdaBoostClassifier(n_estimators = 30, random_state = seed)))\n",
    "modelos.append(('GRADIENT', GradientBoostingClassifier(n_estimators = 100, random_state = seed)))\n",
    "modelos.append(('XGB', XGBClassifier(verbosity=0)))\n",
    "\n",
    "# Evaluating each model\n",
    "resultados = []\n",
    "nomes = []\n",
    "\n",
    "for nome, modelo in modelos:\n",
    "    kfold = KFold(n_splits = num_folds,shuffle=True, random_state = seed)\n",
    "    cv_results = cross_val_score(modelo, X_transformed, Y_train_resampled, cv = kfold, scoring = 'accuracy')\n",
    "    resultados.append(cv_results)\n",
    "    nomes.append(nome)\n",
    "    msg = \"%s: %f (%f)\" % (nome, cv_results.mean(), cv_results.std())\n",
    "    print(msg)\n",
    "\n",
    "# Comparison Boxplot\n",
    "fig = plt.figure(figsize=(12, 8))\n",
    "fig.suptitle('Classification Algorithms Comparison')\n",
    "ax = fig.add_subplot(111)\n",
    "plt.boxplot(resultados)\n",
    "ax.set_xticklabels(nomes)\n",
    "plt.show()"
   ]
  },
  {
   "cell_type": "markdown",
   "id": "c9e86847",
   "metadata": {},
   "source": [
    "The best model through this evaluation was RANDOM FOREST"
   ]
  },
  {
   "cell_type": "markdown",
   "id": "7ab0b4cd",
   "metadata": {
    "ExecuteTime": {
     "end_time": "2021-06-09T19:09:54.849929Z",
     "start_time": "2021-06-09T19:09:54.836998Z"
    }
   },
   "source": [
    "## Creating selected model and saving"
   ]
  },
  {
   "cell_type": "code",
   "execution_count": 48,
   "id": "d647b603",
   "metadata": {
    "ExecuteTime": {
     "end_time": "2021-06-11T17:50:59.441369Z",
     "start_time": "2021-06-11T17:50:36.899899Z"
    }
   },
   "outputs": [
    {
     "name": "stdout",
     "output_type": "stream",
     "text": [
      "Accuracy: 89.638%\n"
     ]
    }
   ],
   "source": [
    "from sklearn.ensemble import RandomForestClassifier\n",
    "from sklearn.model_selection import train_test_split\n",
    "\n",
    "\n",
    "teste_size = 0.33\n",
    "\n",
    "\n",
    "seed = 7\n",
    "\n",
    "# spliting data to evaluate\n",
    "X_treino, X_teste, Y_treino, Y_teste = train_test_split(X_transformed, Y_train_resampled,\n",
    "                                                        test_size = teste_size, random_state = seed)\n",
    "\n",
    "# creating model\n",
    "modelo = RandomForestClassifier(n_estimators = 100, max_features = 3)\n",
    "\n",
    "# Training\n",
    "modelo.fit(X_treino, Y_treino)\n",
    "\n",
    "# Score \n",
    "result = modelo.score(X_teste, Y_teste)\n",
    "print(\"Accuracy: %.3f%%\" % (result * 100.0))"
   ]
  },
  {
   "cell_type": "code",
   "execution_count": 64,
   "id": "485b8c15",
   "metadata": {
    "ExecuteTime": {
     "end_time": "2021-06-11T18:09:21.926880Z",
     "start_time": "2021-06-11T18:09:21.113756Z"
    }
   },
   "outputs": [
    {
     "name": "stdout",
     "output_type": "stream",
     "text": [
      "[[21352  2672]\n",
      " [ 2321 21843]]\n"
     ]
    }
   ],
   "source": [
    "# confusion matrix\n",
    "from sklearn.metrics import confusion_matrix\n",
    "previsoes = modelo.predict(X_teste)\n",
    "matrix = confusion_matrix(Y_teste, previsoes)\n",
    "\n",
    "\n",
    "print(matrix)"
   ]
  },
  {
   "cell_type": "code",
   "execution_count": 65,
   "id": "7b94d43e",
   "metadata": {
    "ExecuteTime": {
     "end_time": "2021-06-11T18:09:22.722669Z",
     "start_time": "2021-06-11T18:09:22.588808Z"
    }
   },
   "outputs": [
    {
     "data": {
      "text/plain": [
       "<sklearn.metrics._plot.confusion_matrix.ConfusionMatrixDisplay at 0x19b81287588>"
      ]
     },
     "execution_count": 65,
     "metadata": {},
     "output_type": "execute_result"
    },
    {
     "data": {
      "image/png": "[encoded data removed]",
      "text/plain": [
       "<Figure size 432x288 with 2 Axes>"
      ]
     },
     "metadata": {
      "needs_background": "light"
     },
     "output_type": "display_data"
    }
   ],
   "source": [
    "from sklearn.metrics import ConfusionMatrixDisplay\n",
    "\n",
    "ConfusionMatrixDisplay(matrix).plot()"
   ]
  },
  {
   "cell_type": "code",
   "execution_count": 51,
   "id": "48e3dc75",
   "metadata": {
    "ExecuteTime": {
     "end_time": "2021-06-11T17:51:00.822233Z",
     "start_time": "2021-06-11T17:51:00.603531Z"
    }
   },
   "outputs": [],
   "source": [
    "import pickle\n",
    "\n",
    "# Saving\n",
    "arquivo = 'RandomForest-Santander.sav'\n",
    "pickle.dump(modelo, open(arquivo, 'wb'))\n"
   ]
  },
  {
   "cell_type": "markdown",
   "id": "998be033",
   "metadata": {},
   "source": [
    "## Training test data"
   ]
  },
  {
   "cell_type": "code",
   "execution_count": 52,
   "id": "f9e672a1",
   "metadata": {
    "ExecuteTime": {
     "end_time": "2021-06-11T17:51:02.332199Z",
     "start_time": "2021-06-11T17:51:00.824268Z"
    }
   },
   "outputs": [],
   "source": [
    "test = pd.read_csv('data/test.csv')"
   ]
  },
  {
   "cell_type": "code",
   "execution_count": 53,
   "id": "d871761f",
   "metadata": {
    "ExecuteTime": {
     "end_time": "2021-06-11T17:51:02.507729Z",
     "start_time": "2021-06-11T17:51:02.335190Z"
    }
   },
   "outputs": [],
   "source": [
    "X_test = test.drop(['ID'],axis=1)"
   ]
  },
  {
   "cell_type": "code",
   "execution_count": 54,
   "id": "dd22ad0f",
   "metadata": {
    "ExecuteTime": {
     "end_time": "2021-06-11T17:51:02.649533Z",
     "start_time": "2021-06-11T17:51:02.508726Z"
    }
   },
   "outputs": [],
   "source": [
    "X_test = X_test.drop(drop_zeros,axis=1)"
   ]
  },
  {
   "cell_type": "code",
   "execution_count": 55,
   "id": "c6156c28",
   "metadata": {
    "ExecuteTime": {
     "end_time": "2021-06-11T17:51:03.073474Z",
     "start_time": "2021-06-11T17:51:02.654516Z"
    }
   },
   "outputs": [],
   "source": [
    "X_test_norm = scaler.transform(X_test)"
   ]
  },
  {
   "cell_type": "code",
   "execution_count": 56,
   "id": "c993ca50",
   "metadata": {
    "ExecuteTime": {
     "end_time": "2021-06-11T17:51:03.518419Z",
     "start_time": "2021-06-11T17:51:03.075433Z"
    }
   },
   "outputs": [],
   "source": [
    "X_test_transf = pca.transform(X_test_norm)"
   ]
  },
  {
   "cell_type": "code",
   "execution_count": 57,
   "id": "913bba95",
   "metadata": {
    "ExecuteTime": {
     "end_time": "2021-06-11T17:51:05.032727Z",
     "start_time": "2021-06-11T17:51:03.520455Z"
    }
   },
   "outputs": [],
   "source": [
    "modelo_classificador_final = pickle.load(open('RandomForest-Santander.sav', 'rb'))\n",
    "\n",
    "previsoes_teste = modelo_classificador_final.predict(X_test_transf)"
   ]
  },
  {
   "cell_type": "code",
   "execution_count": 58,
   "id": "8d5a0ac2",
   "metadata": {
    "ExecuteTime": {
     "end_time": "2021-06-11T17:51:05.048652Z",
     "start_time": "2021-06-11T17:51:05.034683Z"
    }
   },
   "outputs": [],
   "source": [
    "test_id = pd.DataFrame(test['ID'])\n",
    "df_prev_test = pd.DataFrame(previsoes_teste)"
   ]
  },
  {
   "cell_type": "code",
   "execution_count": 59,
   "id": "b385c177",
   "metadata": {
    "ExecuteTime": {
     "end_time": "2021-06-11T17:51:05.064603Z",
     "start_time": "2021-06-11T17:51:05.051638Z"
    }
   },
   "outputs": [],
   "source": [
    "subm = pd.concat([test_id,df_prev_test],axis=1)"
   ]
  },
  {
   "cell_type": "code",
   "execution_count": 60,
   "id": "75e27945",
   "metadata": {
    "ExecuteTime": {
     "end_time": "2021-06-11T17:51:05.079594Z",
     "start_time": "2021-06-11T17:51:05.067598Z"
    }
   },
   "outputs": [],
   "source": [
    "subm.columns = ['ID','TARGET']"
   ]
  },
  {
   "cell_type": "code",
   "execution_count": 61,
   "id": "3e9596b3",
   "metadata": {
    "ExecuteTime": {
     "end_time": "2021-06-11T17:51:05.221158Z",
     "start_time": "2021-06-11T17:51:05.083555Z"
    }
   },
   "outputs": [],
   "source": [
    "subm.to_csv(\"submission-santander-kaggle.csv\", index=False)"
   ]
  },
  {
   "cell_type": "markdown",
   "id": "ec10b095",
   "metadata": {
    "ExecuteTime": {
     "end_time": "2021-06-09T20:28:34.600587Z",
     "start_time": "2021-06-09T20:28:34.582606Z"
    }
   },
   "source": [
    "After uploading on Kaggle I received a score of 0.66703, and the leader got 0.82907, so there is definetly\n",
    "improvement to be made."
   ]
  }
 ],
 "metadata": {
  "kernelspec": {
   "display_name": "Python 3",
   "language": "python",
   "name": "python3"
  },
  "language_info": {
   "codemirror_mode": {
    "name": "ipython",
    "version": 3
   },
   "file_extension": ".py",
   "mimetype": "text/x-python",
   "name": "python",
   "nbconvert_exporter": "python",
   "pygments_lexer": "ipython3",
   "version": "3.7.3"
  },
  "toc": {
   "base_numbering": 1,
   "nav_menu": {},
   "number_sections": true,
   "sideBar": true,
   "skip_h1_title": false,
   "title_cell": "Table of Contents",
   "title_sidebar": "Contents",
   "toc_cell": false,
   "toc_position": {},
   "toc_section_display": true,
   "toc_window_display": true
  }
 },
 "nbformat": 4,
 "nbformat_minor": 5
}
